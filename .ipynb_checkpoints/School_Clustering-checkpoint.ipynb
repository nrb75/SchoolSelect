{
 "cells": [
  {
   "cell_type": "markdown",
   "metadata": {},
   "source": [
    "# Schools in Greenville, SC, How are they similar? \n",
    "\n",
    "First do data preprocessing in the \"School_data_preprocessing\" notebook.\n"
   ]
  },
  {
   "cell_type": "markdown",
   "metadata": {},
   "source": [
    "The data sources are:\n",
    "\n",
    "2015-2016 graduation rates: https://www2.ed.gov/about/inits/ed/edfacts/data-files/index.html#acgr\n",
    "\n",
    "2015-2016 school location, characteristics, staff, and lunch programs: https://nces.ed.gov/ccd/pubschuniv.asp\n",
    "\n",
    "2015-2016 school achievement: https://www2.ed.gov/about/inits/ed/edfacts/data-files/index.html#acgr\n",
    "\n",
    "2015-2016 suspenion rates: https://ocrdata.ed.gov/DataAnalysisTools/DataSetBuilder?Report=4\n",
    "for this analysis, we only focused on the greenville district schools, but you could select other areas of interest.\n",
    "    "
   ]
  },
  {
   "cell_type": "code",
   "execution_count": 111,
   "metadata": {},
   "outputs": [],
   "source": [
    "import numpy as np\n",
    "import pandas as pd\n",
    "import sys\n",
    "import matplotlib as mpl\n",
    "import matplotlib.pyplot as plt\n",
    "import seaborn as sns\n",
    "#Import data that has already been cleaned\n",
    "path='/home/natalie/Documents/SchoolAPI/CleanedData/'\n",
    "\n",
    "all_data=pd.read_csv(path+'all_data.csv', parse_dates=True) #includes school membership, math and reading scores\n",
    "\n",
    "grad_all_data=pd.read_csv(path+'grad_all_data.csv', parse_dates=True)#includes school membership, math and reading scores, but since graduation rates are limited to high schools, this data is high school specific \n",
    "\n",
    "suspensions_all_data=pd.read_csv(path+'suspensions_all_data.csv', parse_dates=True) #includes all of the school membership, math and reading scores, but since suspensions were for Greenville County only, this data is limited to Greenville.\n",
    "\n",
    "suspensions_grad_greenville=pd.read_csv(path+'suspensions_grad_greenville.csv', parse_dates=True)#graduation high school rates, plus suspensions in Greenville only"
   ]
  },
  {
   "cell_type": "markdown",
   "metadata": {},
   "source": [
    "## The \"All_Cohort\" variable is all students in that school, then they are broken down into racial groups.\n",
    "\n",
    "MAM = American Indian/Alaska Native students\n",
    "\n",
    "MAS = Asian/Pacific Islander\n",
    "\n",
    "MHI = Hispanic/Latino\n",
    "\n",
    "MBL = Black\n",
    "\n",
    "MWH = White\n",
    "\n",
    "MTR = Two or more races\n",
    "\n",
    "CWD = disabilities\n",
    "\n",
    "ECD = Economically disadvanted\n",
    "\n",
    "LEP = Limited English Proficiency"
   ]
  },
  {
   "cell_type": "markdown",
   "metadata": {},
   "source": [
    "Double check that all missing values are correctly filled in or removed prior to clustering algorithims which cannot handle NAs"
   ]
  },
  {
   "cell_type": "code",
   "execution_count": 112,
   "metadata": {},
   "outputs": [
    {
     "data": {
      "text/plain": [
       "Unnamed: 0             0.0\n",
       "FIPST                  0.0\n",
       "NCESSCH                0.0\n",
       "LCITY                  0.0\n",
       "LZIP                   0.0\n",
       "G1OFFERED              0.0\n",
       "G8OFFERED              0.0\n",
       "G12OFFERED             0.0\n",
       "NOGRADES               0.0\n",
       "type_school            0.0\n",
       "SCH_NAME_n_students    0.0\n",
       "G01_n_students         0.0\n",
       "G08_n_students         0.0\n",
       "G12_n_students         0.0\n",
       "TOTAL_n_students       0.0\n",
       "AM_n_students          0.0\n",
       "AMALM_n_students       0.0\n",
       "AMALF_n_students       0.0\n",
       "AS_n_students          0.0\n",
       "ASALM_n_students       0.0\n",
       "ASALF_n_students       0.0\n",
       "HI_n_students          0.0\n",
       "HIALM_n_students       0.0\n",
       "HIALF_n_students       0.0\n",
       "BL_n_students          0.0\n",
       "BLALM_n_students       0.0\n",
       "BLALF_n_students       0.0\n",
       "WH_n_students          0.0\n",
       "WHALM_n_students       0.0\n",
       "WHALF_n_students       0.0\n",
       "                      ... \n",
       "F_RLA00PCTPROF         0.0\n",
       "M_RLA00NUMVALID        0.0\n",
       "M_RLA00PCTPROF         0.0\n",
       "MBL_RLAHSNUMVALID      0.0\n",
       "MBL_RLAHSPCTPROF       0.0\n",
       "MWH_RLAHSNUMVALID      0.0\n",
       "MWH_RLAHSPCTPROF       0.0\n",
       "STNAM_y                0.0\n",
       "LEANM_y                0.0\n",
       "ALL_MTH00NUMVALID      0.0\n",
       "ALL_MTH00PCTPROF       0.0\n",
       "F_MTH00NUMVALID        0.0\n",
       "F_MTH00PCTPROF         0.0\n",
       "M_MTH00NUMVALID        0.0\n",
       "M_MTH00PCTPROF         0.0\n",
       "MBL_MTHHSNUMVALID      0.0\n",
       "MBL_MTHHSPCTPROF       0.0\n",
       "MWH_MTHHSNUMVALID      0.0\n",
       "MWH_MTHHSPCTPROF       0.0\n",
       "ALL_COHORT             0.0\n",
       "ALL_RATE               0.0\n",
       "MAM_RATE               0.0\n",
       "MAS_RATE               0.0\n",
       "MBL_RATE               0.0\n",
       "MHI_RATE               0.0\n",
       "MTR_RATE               0.0\n",
       "MWH_RATE               0.0\n",
       "CWD_RATE               0.0\n",
       "ECD_RATE               0.0\n",
       "LEP_RATE               0.0\n",
       "Length: 72, dtype: float64"
      ]
     },
     "execution_count": 112,
     "metadata": {},
     "output_type": "execute_result"
    }
   ],
   "source": [
    "na_list=grad_all_data.isna().sum()\n",
    "na_list/len(grad_all_data) # percentage\n",
    "#Because many of these race groups are so small the PS identifier was used, and then converted to NA."
   ]
  },
  {
   "cell_type": "code",
   "execution_count": 113,
   "metadata": {},
   "outputs": [
    {
     "data": {
      "text/plain": [
       "(array([ 277.,  572.,  419.,  462.,  114., 1932.,  909., 2581., 5649.,\n",
       "        8752.]),\n",
       " array([ 1. , 10.8, 20.6, 30.4, 40.2, 50. , 59.8, 69.6, 79.4, 89.2, 99. ]),\n",
       " <a list of 10 Patch objects>)"
      ]
     },
     "execution_count": 113,
     "metadata": {},
     "output_type": "execute_result"
    },
    {
     "data": {
      "image/png": "[encoded data removed]",
      "text/plain": [
       "<Figure size 432x288 with 1 Axes>"
      ]
     },
     "metadata": {},
     "output_type": "display_data"
    }
   ],
   "source": [
    "plt.hist(grad_all_data['ALL_RATE']) #most schools have above 80% graduation, but there is some negative skewing down towards lower rates."
   ]
  },
  {
   "cell_type": "markdown",
   "metadata": {},
   "source": [
    "Let's see how school suspensions correlate with graduation rates.\n",
    "Plot the percentage of total students graduating vs the total number of suspensions for that group"
   ]
  },
  {
   "cell_type": "code",
   "execution_count": 114,
   "metadata": {},
   "outputs": [
    {
     "name": "stdout",
     "output_type": "stream",
     "text": [
      "<class 'pandas.core.frame.DataFrame'>\n",
      "RangeIndex: 19 entries, 0 to 18\n",
      "Data columns (total 83 columns):\n",
      "Unnamed: 0                19 non-null int64\n",
      "FIPST                     19 non-null int64\n",
      "NCESSCH                   19 non-null int64\n",
      "LCITY                     19 non-null object\n",
      "LZIP                      19 non-null int64\n",
      "G1OFFERED                 19 non-null int64\n",
      "G8OFFERED                 19 non-null int64\n",
      "G12OFFERED                19 non-null int64\n",
      "NOGRADES                  19 non-null int64\n",
      "type_school               19 non-null object\n",
      "SCH_NAME_n_students       19 non-null object\n",
      "G01_n_students            19 non-null int64\n",
      "G08_n_students            19 non-null int64\n",
      "G12_n_students            19 non-null int64\n",
      "TOTAL_n_students          19 non-null int64\n",
      "AM_n_students             19 non-null int64\n",
      "AMALM_n_students          19 non-null int64\n",
      "AMALF_n_students          19 non-null int64\n",
      "AS_n_students             19 non-null int64\n",
      "ASALM_n_students          19 non-null int64\n",
      "ASALF_n_students          19 non-null int64\n",
      "HI_n_students             19 non-null int64\n",
      "HIALM_n_students          19 non-null int64\n",
      "HIALF_n_students          19 non-null int64\n",
      "BL_n_students             19 non-null int64\n",
      "BLALM_n_students          19 non-null int64\n",
      "BLALF_n_students          19 non-null int64\n",
      "WH_n_students             19 non-null int64\n",
      "WHALM_n_students          19 non-null int64\n",
      "WHALF_n_students          19 non-null int64\n",
      "HP_n_students             19 non-null int64\n",
      "HPALM_n_students          19 non-null int64\n",
      "HPALF_n_students          19 non-null int64\n",
      "TR_n_students             19 non-null int64\n",
      "TRALM_n_students          19 non-null int64\n",
      "TRALF_n_students          19 non-null int64\n",
      "FTE                       19 non-null float64\n",
      "STNAM_x                   19 non-null object\n",
      "LEANM_x                   19 non-null object\n",
      "ALL_RLA00NUMVALID         19 non-null int64\n",
      "ALL_RLA00PCTPROF          19 non-null object\n",
      "F_RLA00NUMVALID           19 non-null int64\n",
      "F_RLA00PCTPROF            19 non-null object\n",
      "M_RLA00NUMVALID           19 non-null int64\n",
      "M_RLA00PCTPROF            19 non-null object\n",
      "MBL_RLAHSNUMVALID         19 non-null int64\n",
      "MBL_RLAHSPCTPROF          19 non-null object\n",
      "MWH_RLAHSNUMVALID         19 non-null int64\n",
      "MWH_RLAHSPCTPROF          19 non-null object\n",
      "STNAM_y                   19 non-null object\n",
      "LEANM_y                   19 non-null object\n",
      "ALL_MTH00NUMVALID         19 non-null int64\n",
      "ALL_MTH00PCTPROF          19 non-null int64\n",
      "F_MTH00NUMVALID           19 non-null int64\n",
      "F_MTH00PCTPROF            19 non-null int64\n",
      "M_MTH00NUMVALID           19 non-null int64\n",
      "M_MTH00PCTPROF            19 non-null int64\n",
      "MBL_MTHHSNUMVALID         19 non-null int64\n",
      "MBL_MTHHSPCTPROF          19 non-null int64\n",
      "MWH_MTHHSNUMVALID         19 non-null int64\n",
      "MWH_MTHHSPCTPROF          19 non-null int64\n",
      "ALL_COHORT                19 non-null float64\n",
      "ALL_RATE                  19 non-null float64\n",
      "MAM_RATE                  19 non-null float64\n",
      "MAS_RATE                  19 non-null float64\n",
      "MBL_RATE                  19 non-null float64\n",
      "MHI_RATE                  19 non-null float64\n",
      "MTR_RATE                  19 non-null float64\n",
      "MWH_RATE                  19 non-null float64\n",
      "CWD_RATE                  19 non-null float64\n",
      "ECD_RATE                  19 non-null float64\n",
      "LEP_RATE                  19 non-null float64\n",
      "TOT_n_susp                19 non-null int64\n",
      "TOT_OSS_rate              19 non-null float64\n",
      "BLA_OSS_rate              19 non-null float64\n",
      "WHI_OSS_rate              19 non-null float64\n",
      "AME_OSS_times_white       19 non-null float64\n",
      "ASI_OSS_times_white       19 non-null float64\n",
      "HI_PAC_OSS_times_white    19 non-null float64\n",
      "BLA_OSS_times_white       19 non-null float64\n",
      "HIS_OSS_times_white       19 non-null float64\n",
      "TWO_OSS_times_white       19 non-null float64\n",
      "TOT_n_enrollment          19 non-null int64\n",
      "dtypes: float64(21), int64(50), object(12)\n",
      "memory usage: 12.4+ KB\n"
     ]
    }
   ],
   "source": [
    "suspensions_grad_greenville.info()"
   ]
  },
  {
   "cell_type": "code",
   "execution_count": 115,
   "metadata": {},
   "outputs": [
    {
     "data": {
      "text/plain": [
       "Text(0,0.5,'rate of graduation (%)')"
      ]
     },
     "execution_count": 115,
     "metadata": {},
     "output_type": "execute_result"
    },
    {
     "data": {
      "image/png": "[encoded data removed]",
      "text/plain": [
       "<Figure size 432x288 with 1 Axes>"
      ]
     },
     "metadata": {},
     "output_type": "display_data"
    }
   ],
   "source": [
    "plt.scatter(suspensions_grad_greenville['TOT_OSS_rate'],  suspensions_grad_greenville['ALL_RATE'])\n",
    "plt.title('ALL High School Graduation vs. Suspensions')\n",
    "plt.xlabel('total suspension rate (%)')\n",
    "plt.ylabel('rate of graduation (%)')"
   ]
  },
  {
   "cell_type": "markdown",
   "metadata": {},
   "source": [
    "### Math competence vs. suspensions for all students"
   ]
  },
  {
   "cell_type": "code",
   "execution_count": 116,
   "metadata": {},
   "outputs": [
    {
     "data": {
      "text/plain": [
       "Text(0,0.5,'percentage of all students proficient in math')"
      ]
     },
     "execution_count": 116,
     "metadata": {},
     "output_type": "execute_result"
    },
    {
     "data": {
      "image/png": "[encoded data removed]",
      "text/plain": [
       "<Figure size 432x288 with 1 Axes>"
      ]
     },
     "metadata": {},
     "output_type": "display_data"
    }
   ],
   "source": [
    "plt.scatter(suspensions_all_data['TOT_OSS_rate'],  suspensions_all_data['ALL_MTH00PCTPROF'])\n",
    "plt.title('Allstudent suspensions vs math proficiency')\n",
    "plt.xlabel('student suspensions (%)')\n",
    "plt.ylabel('percentage of all students proficient in math')"
   ]
  },
  {
   "cell_type": "markdown",
   "metadata": {},
   "source": [
    "This has a trend we expect, as the number of suspensions increases the % of students proficient in math tends to decrease"
   ]
  },
  {
   "cell_type": "markdown",
   "metadata": {},
   "source": [
    "## Let's compare suspension rate by race. \n",
    "When there is a very small group of students, the data is removed to protect privacy. Thus, there are many instances where the rates are shown as \"0\". Therefore, for this analysis we will remove these \"0\" entries.\n"
   ]
  },
  {
   "cell_type": "code",
   "execution_count": 70,
   "metadata": {},
   "outputs": [],
   "source": [
    "susp_list=['TOT_OSS_rate', 'BLA_OSS_rate', 'WHI_OSS_rate']\n",
    "suspensions_all_data_zerorm=suspensions_all_data\n",
    "for i in susp_list:\n",
    "    suspensions_all_data_zerorm=suspensions_all_data_zerorm[suspensions_all_data_zerorm[i] !=0]\n"
   ]
  },
  {
   "cell_type": "code",
   "execution_count": 123,
   "metadata": {},
   "outputs": [
    {
     "data": {
      "text/html": [
       "<div>\n",
       "<style scoped>\n",
       "    .dataframe tbody tr th:only-of-type {\n",
       "        vertical-align: middle;\n",
       "    }\n",
       "\n",
       "    .dataframe tbody tr th {\n",
       "        vertical-align: top;\n",
       "    }\n",
       "\n",
       "    .dataframe thead th {\n",
       "        text-align: right;\n",
       "    }\n",
       "</style>\n",
       "<table border=\"1\" class=\"dataframe\">\n",
       "  <thead>\n",
       "    <tr style=\"text-align: right;\">\n",
       "      <th></th>\n",
       "      <th>OSS_rate</th>\n",
       "      <th>type</th>\n",
       "    </tr>\n",
       "  </thead>\n",
       "  <tbody>\n",
       "  </tbody>\n",
       "</table>\n",
       "</div>"
      ],
      "text/plain": [
       "Empty DataFrame\n",
       "Columns: [OSS_rate, type]\n",
       "Index: []"
      ]
     },
     "execution_count": 123,
     "metadata": {},
     "output_type": "execute_result"
    }
   ],
   "source": [
    "#suspensions_trans1=[]\n",
    "tot_oss=pd.DataFrame(columns=['OSS_rate','type'])\n",
    "tot_oss['OSS_rate']=suspensions_all_data_zerorm['TOT_OSS_rate'][0:89,]\n",
    "tot_oss['type']='Total'\n",
    "tot_oss=tot_oss.iloc[:-1] #unclear why it adds a 'total' to the bottom in the rate column\n"
   ]
  },
  {
   "cell_type": "code",
   "execution_count": 124,
   "metadata": {},
   "outputs": [],
   "source": [
    "BLA_oss=pd.DataFrame(columns=['OSS_rate','type'])\n",
    "BLA_oss['OSS_rate']=suspensions_all_data_zerorm['BLA_OSS_rate']\n",
    "BLA_oss['type']='BLA'\n",
    "\n",
    "WH_oss=pd.DataFrame(columns=['OSS_rate','type'])\n",
    "WH_oss['OSS_rate']=suspensions_all_data_zerorm['WHI_OSS_rate']\n",
    "WH_oss['type']='WHI'\n",
    "\n",
    "oss_race_rate=pd.concat([tot_oss, BLA_oss, WH_oss])\n",
    "oss_race_rate['OSS_rate']=oss_race_rate['OSS_rate'].astype(str).astype(float)"
   ]
  },
  {
   "cell_type": "code",
   "execution_count": 125,
   "metadata": {},
   "outputs": [
    {
     "data": {
      "text/plain": [
       "<matplotlib.axes._subplots.AxesSubplot at 0x7f6233856278>"
      ]
     },
     "execution_count": 125,
     "metadata": {},
     "output_type": "execute_result"
    },
    {
     "data": {
      "image/png": "[encoded data removed]",
      "text/plain": [
       "<Figure size 432x288 with 1 Axes>"
      ]
     },
     "metadata": {},
     "output_type": "display_data"
    }
   ],
   "source": [
    "import seaborn as sns\n",
    "# Make boxplot for one group only\n",
    "\n",
    "sns.boxplot( y=oss_race_rate['OSS_rate'], x=oss_race_rate['type'] )"
   ]
  },
  {
   "cell_type": "code",
   "execution_count": 75,
   "metadata": {},
   "outputs": [
    {
     "data": {
      "image/png": "[encoded data removed]",
      "text/plain": [
       "<Figure size 648x432 with 1 Axes>"
      ]
     },
     "metadata": {},
     "output_type": "display_data"
    }
   ],
   "source": [
    "fig = plt.figure(1, figsize=(9, 6))\n",
    "# Create an axes instance\n",
    "ax = fig.add_subplot(111)\n",
    "\n",
    "# Create the boxplot\n",
    "bp = ax.boxplot(suspensions_all_data_zerorm[['TOT_OSS_rate', 'BLA_OSS_rate', 'WHI_OSS_rate']])"
   ]
  },
  {
   "cell_type": "code",
   "execution_count": 78,
   "metadata": {},
   "outputs": [
    {
     "ename": "AttributeError",
     "evalue": "'DataFrame' object has no attribute 'iplot'",
     "output_type": "error",
     "traceback": [
      "\u001b[0;31m---------------------------------------------------------------------------\u001b[0m",
      "\u001b[0;31mAttributeError\u001b[0m                            Traceback (most recent call last)",
      "\u001b[0;32m<ipython-input-78-918704420bf8>\u001b[0m in \u001b[0;36m<module>\u001b[0;34m()\u001b[0m\n\u001b[0;32m----> 1\u001b[0;31m \u001b[0msuspensions_all_data_zerorm\u001b[0m\u001b[0;34m[\u001b[0m\u001b[0;34m[\u001b[0m\u001b[0;34m'TOT_OSS_rate'\u001b[0m\u001b[0;34m,\u001b[0m \u001b[0;34m'BLA_OSS_rate'\u001b[0m\u001b[0;34m,\u001b[0m \u001b[0;34m'WHI_OSS_rate'\u001b[0m\u001b[0;34m]\u001b[0m\u001b[0;34m]\u001b[0m\u001b[0;34m.\u001b[0m\u001b[0miplot\u001b[0m\u001b[0;34m(\u001b[0m\u001b[0mkind\u001b[0m\u001b[0;34m=\u001b[0m\u001b[0;34m'box'\u001b[0m\u001b[0;34m)\u001b[0m\u001b[0;34m\u001b[0m\u001b[0m\n\u001b[0m",
      "\u001b[0;32m~/anaconda3/envs/insight/lib/python3.6/site-packages/pandas/core/generic.py\u001b[0m in \u001b[0;36m__getattr__\u001b[0;34m(self, name)\u001b[0m\n\u001b[1;32m   4374\u001b[0m             \u001b[0;32mif\u001b[0m \u001b[0mself\u001b[0m\u001b[0;34m.\u001b[0m\u001b[0m_info_axis\u001b[0m\u001b[0;34m.\u001b[0m\u001b[0m_can_hold_identifiers_and_holds_name\u001b[0m\u001b[0;34m(\u001b[0m\u001b[0mname\u001b[0m\u001b[0;34m)\u001b[0m\u001b[0;34m:\u001b[0m\u001b[0;34m\u001b[0m\u001b[0m\n\u001b[1;32m   4375\u001b[0m                 \u001b[0;32mreturn\u001b[0m \u001b[0mself\u001b[0m\u001b[0;34m[\u001b[0m\u001b[0mname\u001b[0m\u001b[0;34m]\u001b[0m\u001b[0;34m\u001b[0m\u001b[0m\n\u001b[0;32m-> 4376\u001b[0;31m             \u001b[0;32mreturn\u001b[0m \u001b[0mobject\u001b[0m\u001b[0;34m.\u001b[0m\u001b[0m__getattribute__\u001b[0m\u001b[0;34m(\u001b[0m\u001b[0mself\u001b[0m\u001b[0;34m,\u001b[0m \u001b[0mname\u001b[0m\u001b[0;34m)\u001b[0m\u001b[0;34m\u001b[0m\u001b[0m\n\u001b[0m\u001b[1;32m   4377\u001b[0m \u001b[0;34m\u001b[0m\u001b[0m\n\u001b[1;32m   4378\u001b[0m     \u001b[0;32mdef\u001b[0m \u001b[0m__setattr__\u001b[0m\u001b[0;34m(\u001b[0m\u001b[0mself\u001b[0m\u001b[0;34m,\u001b[0m \u001b[0mname\u001b[0m\u001b[0;34m,\u001b[0m \u001b[0mvalue\u001b[0m\u001b[0;34m)\u001b[0m\u001b[0;34m:\u001b[0m\u001b[0;34m\u001b[0m\u001b[0m\n",
      "\u001b[0;31mAttributeError\u001b[0m: 'DataFrame' object has no attribute 'iplot'"
     ]
    }
   ],
   "source": [
    "suspensions_all_data_zerorm[['TOT_OSS_rate', 'BLA_OSS_rate', 'WHI_OSS_rate']].iplot(kind='box')"
   ]
  },
  {
   "cell_type": "code",
   "execution_count": 77,
   "metadata": {},
   "outputs": [
    {
     "data": {
      "text/plain": [
       "[array([113.31586504, 107.15278974,  84.54599708,  99.9161615 ,\n",
       "        106.21335974,  92.79914439, 102.65511586, 101.08548526,\n",
       "        100.04291431,  98.25399789, 104.3302619 , 112.03037374,\n",
       "         90.34934329, 110.28274078, 102.2863013 , 104.45137613,\n",
       "         88.63397788, 101.35136878, 114.84537002,  89.20195114,\n",
       "         80.22271719,  82.56627704, 102.66070164, 123.84967331,\n",
       "        111.23691253, 116.72622213, 100.99149216, 113.97996377,\n",
       "         97.28752012, 106.13204185,  97.32682811,  94.50690986,\n",
       "        101.32708296,  95.23857985, 113.08473081, 101.95013279,\n",
       "        104.00209988,  96.62367663, 112.56472264,  92.68030498,\n",
       "        106.60231551,  96.49128109,  90.6056664 ,  95.10662783,\n",
       "         91.95408858,  97.87302361,  96.60859754, 103.12169936,\n",
       "        105.6515267 ,  98.52579742,  99.74094663, 102.89094204,\n",
       "         94.60120929, 107.0816002 , 108.42224738, 102.03580797,\n",
       "        123.94703665, 109.17458938,  98.87727529,  96.37819553,\n",
       "         97.67817744,  94.982711  , 111.28785153,  93.0218997 ,\n",
       "         99.18877816,  94.70703919, 110.46182857,  85.81443971,\n",
       "         96.37500817,  98.78094309, 103.19356421, 104.60902902,\n",
       "         97.84210108, 109.89072457, 103.14753779, 124.67651056,\n",
       "         84.91678513, 106.20600663,  89.54867462,  92.01991182,\n",
       "        119.85084591, 117.44814148,  81.43814519,  97.77226301,\n",
       "         99.34152152,  78.68287892,  99.51169489, 103.93341217,\n",
       "        102.17265145,  80.0560623 , 111.07708235, 102.44543977,\n",
       "         99.38087971,  92.46107039, 107.11959017, 109.18269151,\n",
       "         95.17906861, 100.89587613, 108.26998623,  80.4548788 ,\n",
       "        101.17475661,  80.92543112,  90.77090735, 104.69751434,\n",
       "         98.55633237,  95.99861648,  97.04016147, 108.48208609,\n",
       "        107.06830455,  92.12731074, 102.92940725,  95.29192749,\n",
       "        124.04325606,  92.60643261,  96.87171243,  96.51118082,\n",
       "         95.60973764, 101.41104168, 102.7304932 ,  83.81429252,\n",
       "         94.26886638,  86.79552454, 112.36205326, 124.65325082,\n",
       "        113.8323223 , 103.46233115, 110.22516107, 101.66810267,\n",
       "        116.56716624, 106.67889609,  97.70053356,  88.70448806,\n",
       "         93.60037396, 103.13830522,  87.74164019,  97.78206864,\n",
       "        113.3992631 , 100.29309711, 119.85385746, 114.47165601,\n",
       "         97.12370586,  86.40689427,  99.51958675,  95.1921266 ,\n",
       "        103.77753086, 116.14407974,  88.76895965,  96.11272053,\n",
       "        103.3234995 , 111.34973173, 105.10714411, 104.14297641,\n",
       "        113.44549423, 104.93515317,  97.62995815, 100.5728515 ,\n",
       "         92.92928553, 105.46664838, 109.42500409,  70.20403229,\n",
       "        112.1814885 ,  99.43479277, 104.60888452, 106.62374012,\n",
       "         77.04896671,  88.04070689,  96.66898838,  92.08609229,\n",
       "        102.74172781,  94.85090078,  82.88928803, 106.12297312,\n",
       "        111.00129374, 105.64352526,  92.87200563,  97.39140521,\n",
       "        105.48428066, 106.0319905 , 110.06861139,  97.05573993,\n",
       "         85.79119485,  93.21053225, 105.33884809, 107.43974404,\n",
       "        122.25049639, 101.1718142 , 102.4461452 ,  98.22701177,\n",
       "         95.94270472, 107.8177519 , 103.53477614,  97.92720514,\n",
       "         89.20302616,  98.76930171,  96.09017815, 112.55173732,\n",
       "        109.47126078,  89.77689308, 111.67168368,  94.28023187]),\n",
       " array([ 83.99412491, 116.08231622,  49.25741099,  84.81197489,\n",
       "         46.08574139,  21.76100957, 109.59793451,  80.84682102,\n",
       "         55.32897207,  32.40344717,  67.95581542, 120.26537853,\n",
       "         92.0740728 ,  68.81715751,  59.83929691,  83.17436248,\n",
       "         33.58083827, 120.34419532,  95.09567545, 115.83051807,\n",
       "         63.09482986, 105.64486269, 100.63714177,  34.00793845,\n",
       "         84.46882103,  89.45333505,  62.75247008,  69.19486597,\n",
       "         93.0855589 ,  78.86246354,  49.85850942,  97.7435926 ,\n",
       "         86.83452092,  87.47535974,  82.8728971 ,  93.47065192,\n",
       "         71.41993977,  54.11725102,  57.74525484, 113.16725408,\n",
       "         19.46844042,  96.21622139,  36.73103352,  31.73448911,\n",
       "         49.80294315,  72.27399126, 101.91522341,  29.04795527,\n",
       "        130.22226637, 114.91171101,  76.02279222,  71.29262574,\n",
       "         51.39402747,  97.64121781,  82.06404412, 122.36192913,\n",
       "         59.41353155,  96.43831781,  78.90852387,  54.58951241,\n",
       "        137.06912125,  88.38816177,  98.60763505,  47.94296875,\n",
       "         58.32137799,  82.52418666,  62.4663453 ,  98.06066812,\n",
       "         93.15095718,  56.52970417,  85.78807953,  80.12074736,\n",
       "         75.07774128,  45.53563207,  54.93474488,  86.31352185,\n",
       "        110.41953892,  50.89406531, 116.51544677,  85.47942136,\n",
       "         41.90541225,  89.70169789, 106.57324573,  87.93184075,\n",
       "        149.57381953,  89.2600302 , 106.77692095,  80.3306809 ,\n",
       "        109.40222384,   8.1328396 ,  54.27432455,  69.07165741,\n",
       "         95.11780704,  85.64993644, 112.55681221,  90.70817201,\n",
       "         86.21988702,  75.64806388,  84.91712758, 104.88537453,\n",
       "        102.65899874, 106.38457072,  72.80131104,  59.14830064,\n",
       "         65.85799751,  90.48429226, 128.34371882,  87.18017799,\n",
       "         94.55007884,  30.2418588 , 160.39730924,  46.89433606,\n",
       "        134.53347826,  63.31857975, 108.73133719, 104.45662044,\n",
       "         81.92958199,  75.00783885,  51.77870675,  78.39216495,\n",
       "        113.03408609,  91.16367636,  53.49617039, 114.74154715,\n",
       "         43.89039525,  86.29517426,  53.26439234,  56.51936759,\n",
       "        112.39192033,  66.11477343,  34.54772962,  63.83844405,\n",
       "        102.69865573,  58.11802333, 116.4434795 , 110.248489  ,\n",
       "         82.19849027, 115.2119724 , 135.88855002,  20.49090507,\n",
       "        114.7006679 ,  98.27846799,  70.30396303,  99.92436821,\n",
       "         91.90177979,  62.71649417, 124.64655176,  84.207406  ,\n",
       "        115.64950262,  72.62763837,  30.93240146,  87.34394266,\n",
       "         72.94753311,  42.17516583,  29.24096214,  98.49352767,\n",
       "        118.09073845, 121.9201393 ,  96.02674887,  80.12306116,\n",
       "         85.68259527,  81.34324056, 103.84055823,  65.20577776,\n",
       "         42.15230783,  73.42219208,  85.91816672,  72.34158638,\n",
       "         80.77422775, 146.02899313, 106.5310281 ,  38.39532396,\n",
       "         99.60986943,  14.70174096,  98.56846773,  94.31702909,\n",
       "         80.78289584,  50.90882982,  50.48815628,  92.37598147,\n",
       "         61.57085461, 105.11245326,  61.29142975,  69.10441396,\n",
       "        102.78413993,  78.98219001,  75.00797922,  88.0871727 ,\n",
       "         91.25916653,  77.48254267,  86.78379048,  76.52357808,\n",
       "         92.34807236,  88.63431303,  95.12814431, 104.12802073,\n",
       "         49.08175361,  39.2690732 ,  72.00494405,  74.86121607]),\n",
       " array([ 99.24771101,  65.60288932,  93.85145678,  98.70900777,\n",
       "         57.30111728,  98.69874549, 117.95638772,  92.4933355 ,\n",
       "         72.17097196,  78.46213317,  88.50102264,  79.56447104,\n",
       "         25.91197311, 119.25421985,  80.66194757,  86.41960598,\n",
       "        108.49495269,  94.7048953 ,  80.22783489,  88.14036917,\n",
       "        100.70802764, 101.01689402,  86.16955893, 105.89395255,\n",
       "        105.70192998,  80.24551166,  69.8827027 ,  96.55150731,\n",
       "        101.580969  ,  80.80148904,  81.28368172, 100.72537103,\n",
       "         93.14029967, 117.17578278, 100.3069049 , 137.68249246,\n",
       "        100.58380536,  72.07712327,  86.04379765,  88.09048336,\n",
       "         56.39108162, 103.53416391,  91.21455647,  89.53917623,\n",
       "         78.93363145,  67.87753527,  85.65730211,  72.49155246,\n",
       "         90.21562858,  71.87506359,  61.68493579,  91.89416623,\n",
       "         93.87601221, 100.86470171,  91.12671559, 119.3131001 ,\n",
       "         77.28061577, 112.19010457,  70.14735032,  76.35317053,\n",
       "         81.81461599,  85.05049454, 120.55702239,  77.01123258,\n",
       "         64.61968948, 105.09752141,  89.52183115,  58.84915056,\n",
       "         96.92703153, 108.84728995,  82.29046367, 121.20417562,\n",
       "        120.9032352 ,  76.16624692, 107.29036944,  48.04416253,\n",
       "         93.4058939 ,  74.84340695, 109.35620832,  72.50949911,\n",
       "        110.5568078 ,  73.94220743,  81.43393185,  74.89168332,\n",
       "         94.40993798,  62.53771631, 102.93516675,  76.52996372,\n",
       "        134.83733005,  85.07025759,  74.72791322,  99.61577486,\n",
       "         73.36401594, 101.86378463,  81.02441721,  99.75391876,\n",
       "         91.12629459, 100.91568931,  76.33755198,  76.81965383,\n",
       "        118.78507457, 117.6429325 , 108.42640862,  78.54225556,\n",
       "        115.50098202,  83.4233592 ,  87.07318389, 111.16873285,\n",
       "         87.77839115,  89.22237734,  83.55273016,  76.68468538,\n",
       "         75.90759991,  82.92474539,  93.03854842,  83.9159966 ,\n",
       "         66.42291262,  87.01734587,  85.49806299,  91.40308748,\n",
       "         99.04134457,  95.88138516,  73.44979974,  73.43057566,\n",
       "         80.14985073,  74.96759118,  58.23238368,  80.62538573,\n",
       "         61.37763065,  64.73006273,  65.19502736,  68.93768053,\n",
       "         67.35604525,  71.78107888,  84.79520229, 106.29309039,\n",
       "         63.05317054, 111.19056652, 100.49081472, 100.66978043,\n",
       "         84.92883964,  93.84244586, 101.25843586, 102.54901937,\n",
       "         83.20102756, 104.74357962, 114.05805845, 109.41119053,\n",
       "        104.07757442,  77.90024564,  90.09421089,  92.9406788 ,\n",
       "         80.74921765,  94.37117664,  93.37507218,  89.00005644,\n",
       "         87.00187709,  89.29343875,  90.67233069,  82.6684802 ,\n",
       "         81.51577158,  88.983007  ,  67.52491594,  52.85283668,\n",
       "         85.66950136,  66.41590995, 122.89522264, 104.46858393,\n",
       "        114.96298592, 104.6545154 ,  83.57954524, 100.01789934,\n",
       "        100.39884622,  62.44248342, 105.69421291,  72.07384666,\n",
       "         66.43324136, 104.82374811,  78.54301337,  70.77989314,\n",
       "        113.75835989,  54.67669999,  74.59176685, 112.48483831,\n",
       "        143.43370178,  91.28891   , 108.26968628,  70.0598758 ,\n",
       "        131.50097339,  78.19626939,  33.67997566,  92.19088853,\n",
       "         92.85338587,  74.31928879,  95.1522147 , 116.25845494,\n",
       "         63.01949261, 100.00273702,  70.30826704, 119.71958828]),\n",
       " array([ 84.26733638,  57.17812019,  76.89456057,  60.26796145,\n",
       "         86.21323538,  69.38928653, 102.71217886, 136.56443685,\n",
       "         78.56815997,  91.81575414,  79.43492514,  57.33351547,\n",
       "         82.07540325,  94.42265077,  91.17103215,  73.91629392,\n",
       "         66.13695563, 115.75367875,  93.22778239, 104.56343717,\n",
       "         53.69346604, 105.57133363,  33.52889059,  81.94122361,\n",
       "         70.73501985,  74.04531965,  59.72690996,  93.27089087,\n",
       "         83.45671621,  74.8798199 , 121.64064295,  96.05131036,\n",
       "         74.58296045,  69.71278759,  20.32239627,  53.97919269,\n",
       "         57.96513621,  49.72720473,  67.27816137, 115.51951634,\n",
       "         82.85174862,  64.13331346,  42.86053404,  93.7936491 ,\n",
       "         64.24019467, 116.74969561,  73.94312443, 105.84091316,\n",
       "         81.81598571,  71.891473  ,  73.15362166,  85.63954855,\n",
       "         69.32693402,  30.81379984,  22.87874569,  52.0621946 ,\n",
       "         49.5515906 ,  75.23427723,  66.73447693,  82.32463012,\n",
       "         64.43084824,  84.04681162,  78.45148362,  97.59682258,\n",
       "         47.49251098,  22.4746566 ,  54.4786417 ,  88.21233662,\n",
       "         53.53899462,  58.02413586,  37.77188247,  45.64501019,\n",
       "         65.14743669,  26.33160394,  66.2255737 ,  70.44807977,\n",
       "         65.04198741,  73.11615404,  53.40622688, 102.03934602,\n",
       "         89.80598708,  50.22245117,  68.08487483,  53.39406679,\n",
       "        101.7955156 ,  67.01117543,  39.9755347 ,  91.15462738,\n",
       "         85.28074457,  64.90992303,  56.89565442,  59.53564942,\n",
       "         68.45209468,  43.5287927 , 115.13113944,  68.1494194 ,\n",
       "        125.12214245,  58.69776783,  64.76410099,  62.63289106,\n",
       "         92.66230409,  94.98136232,  77.8846077 ,  98.44498667,\n",
       "         98.9524091 ,  94.99401297,  59.58878456,  41.40558993,\n",
       "         29.33882959,  33.53026447,  62.10436614,  37.77660472,\n",
       "         67.29100043, 107.33083323,  66.09766044,  22.70886508,\n",
       "         91.00915394,  64.37002906,  57.51449385,  63.22455249,\n",
       "         36.86585321,  70.46370339,  88.86387298,  44.37993275,\n",
       "         84.24833856,  85.23026019,  55.79212075,  95.22990099,\n",
       "         41.03205849,  80.99331686,  66.41143901,  67.93798597,\n",
       "         79.7144505 ,  75.34461799,  20.93703707,  37.57844686,\n",
       "         42.98508759,  64.0988162 ,  89.50115774,  96.47042554,\n",
       "         86.79352334,  74.37848749,  45.74341836,  99.53379579,\n",
       "         72.64840934,  39.04956181,  54.50135251, 100.45150273,\n",
       "        105.84753575,  46.60226253, 122.70095021,  92.79270917,\n",
       "         84.20417695,  40.76330822, 123.79926264,  68.66937772,\n",
       "         51.20570246,  59.15568295,  67.3780804 ,  45.23940277,\n",
       "         85.34945096,  67.0696632 ,  26.69196445,  48.15495707,\n",
       "         41.63261693,  49.80509186,  56.25880949,  74.68641104,\n",
       "         62.63354809,  65.32696735,  51.26881912,  87.17121015,\n",
       "         63.0732402 , 119.75013781,  47.65900119,  68.97468738,\n",
       "        102.50672637,  41.34760434,  46.22627532,  42.10852123,\n",
       "         66.75332274,  62.67277652,  75.33822821,  97.95077011,\n",
       "         41.08840868,  60.36347745,  79.98318434,   7.21327252,\n",
       "         56.83479915,  58.60545246,  54.87240069,  77.09827299,\n",
       "         97.42802073,  56.53556579, 124.88991857,  52.43390537,\n",
       "         68.48501104,  75.43070542,  31.87414275,  81.44729935])]"
      ]
     },
     "execution_count": 77,
     "metadata": {},
     "output_type": "execute_result"
    }
   ],
   "source": [
    "import numpy as np\n",
    "np.random.seed(10)\n",
    "collectn_1 = np.random.normal(100, 10, 200)\n",
    "collectn_2 = np.random.normal(80, 30, 200)\n",
    "collectn_3 = np.random.normal(90, 20, 200)\n",
    "collectn_4 = np.random.normal(70, 25, 200)\n",
    "\n",
    "## combine these different collections into a list    \n",
    "data_to_plot = [collectn_1, collectn_2, collectn_3, collectn_4]\n",
    "data_to_plot"
   ]
  },
  {
   "cell_type": "markdown",
   "metadata": {},
   "source": [
    "#### Do suspensions rates for different races, correlate with math competence?\n",
    "\n",
    "suspensions are shown in 'times white', which indicates afor example, suspension for black students are 4X higher than white students."
   ]
  },
  {
   "cell_type": "markdown",
   "metadata": {},
   "source": [
    "MBL_MTHHSPCTPROF = percentage of black students in school who are proficient in math\n",
    "BLA_OSS_times_white = suspension rate of black students comapred to whtie students"
   ]
  },
  {
   "cell_type": "code",
   "execution_count": 42,
   "metadata": {},
   "outputs": [
    {
     "data": {
      "text/plain": [
       "Text(0,0.5,'percentage of group proficient in math')"
      ]
     },
     "execution_count": 42,
     "metadata": {},
     "output_type": "execute_result"
    },
    {
     "data": {
      "image/png": "[encoded data removed]",
      "text/plain": [
       "<Figure size 432x288 with 1 Axes>"
      ]
     },
     "metadata": {},
     "output_type": "display_data"
    }
   ],
   "source": [
    "plt.scatter(suspensions_all_data['BLA_OSS_times_white'],  suspensions_all_data['MBL_MTHHSPCTPROF'])\n",
    "plt.title('Black student suspensions vs math proficiency')\n",
    "plt.xlabel('black suspensions X times likely than white')\n",
    "plt.ylabel('percentage of group proficient in math')"
   ]
  },
  {
   "cell_type": "code",
   "execution_count": 44,
   "metadata": {},
   "outputs": [
    {
     "data": {
      "text/plain": [
       "Text(0,0.5,'percentage of group proficient in reading')"
      ]
     },
     "execution_count": 44,
     "metadata": {},
     "output_type": "execute_result"
    },
    {
     "data": {
      "image/png": "[encoded data removed]",
      "text/plain": [
       "<Figure size 432x288 with 1 Axes>"
      ]
     },
     "metadata": {},
     "output_type": "display_data"
    }
   ],
   "source": [
    "plt.scatter(suspensions_all_data['BLA_OSS_times_white'],  suspensions_all_data['MBL_RLAHSPCTPROF'])\n",
    "plt.title('Black student suspensions vs math proficiency')\n",
    "plt.xlabel('black suspensions X times likely than white')\n",
    "plt.ylabel('percentage of group proficient in reading')\n",
    "#there are many missing data points, coded here as '0' for proficient, so that doesn't help our analysis much"
   ]
  },
  {
   "cell_type": "code",
   "execution_count": 40,
   "metadata": {},
   "outputs": [
    {
     "name": "stdout",
     "output_type": "stream",
     "text": [
      "<class 'pandas.core.frame.DataFrame'>\n",
      "RangeIndex: 90 entries, 0 to 89\n",
      "Data columns (total 69 columns):\n",
      "Unnamed: 0                90 non-null int64\n",
      "FIPST                     90 non-null int64\n",
      "NCESSCH                   90 non-null int64\n",
      "LCITY                     90 non-null object\n",
      "LZIP                      90 non-null int64\n",
      "G1OFFERED                 90 non-null int64\n",
      "G8OFFERED                 90 non-null int64\n",
      "G12OFFERED                90 non-null int64\n",
      "NOGRADES                  90 non-null int64\n",
      "type_school               90 non-null object\n",
      "SCH_NAME_n_students       90 non-null object\n",
      "G01_n_students            90 non-null int64\n",
      "G08_n_students            90 non-null int64\n",
      "G12_n_students            90 non-null int64\n",
      "TOTAL_n_students          90 non-null int64\n",
      "AM_n_students             90 non-null int64\n",
      "AMALM_n_students          90 non-null int64\n",
      "AMALF_n_students          90 non-null int64\n",
      "AS_n_students             90 non-null int64\n",
      "ASALM_n_students          90 non-null int64\n",
      "ASALF_n_students          90 non-null int64\n",
      "HI_n_students             90 non-null int64\n",
      "HIALM_n_students          90 non-null int64\n",
      "HIALF_n_students          90 non-null int64\n",
      "BL_n_students             90 non-null int64\n",
      "BLALM_n_students          90 non-null int64\n",
      "BLALF_n_students          90 non-null int64\n",
      "WH_n_students             90 non-null int64\n",
      "WHALM_n_students          90 non-null int64\n",
      "WHALF_n_students          90 non-null int64\n",
      "HP_n_students             90 non-null int64\n",
      "HPALM_n_students          90 non-null int64\n",
      "HPALF_n_students          90 non-null int64\n",
      "TR_n_students             90 non-null int64\n",
      "TRALM_n_students          90 non-null int64\n",
      "TRALF_n_students          90 non-null int64\n",
      "FTE                       90 non-null float64\n",
      "STNAM_x                   90 non-null object\n",
      "LEANM_x                   90 non-null object\n",
      "ALL_RLA00NUMVALID         90 non-null int64\n",
      "ALL_RLA00PCTPROF          90 non-null int64\n",
      "F_RLA00NUMVALID           90 non-null int64\n",
      "F_RLA00PCTPROF            90 non-null int64\n",
      "M_RLA00NUMVALID           90 non-null int64\n",
      "M_RLA00PCTPROF            90 non-null int64\n",
      "MBL_RLAHSNUMVALID         90 non-null int64\n",
      "MBL_RLAHSPCTPROF          90 non-null int64\n",
      "MWH_RLAHSNUMVALID         90 non-null int64\n",
      "MWH_RLAHSPCTPROF          90 non-null int64\n",
      "STNAM_y                   90 non-null object\n",
      "LEANM_y                   90 non-null object\n",
      "ALL_MTH00NUMVALID         90 non-null int64\n",
      "ALL_MTH00PCTPROF          90 non-null int64\n",
      "F_MTH00NUMVALID           90 non-null int64\n",
      "F_MTH00PCTPROF            90 non-null int64\n",
      "M_MTH00NUMVALID           90 non-null int64\n",
      "M_MTH00PCTPROF            90 non-null int64\n",
      "MBL_MTHHSNUMVALID         90 non-null int64\n",
      "MBL_MTHHSPCTPROF          90 non-null int64\n",
      "MWH_MTHHSNUMVALID         90 non-null int64\n",
      "MWH_MTHHSPCTPROF          90 non-null int64\n",
      "TOT_n_susp                90 non-null int64\n",
      "AME_OSS_times_white       90 non-null float64\n",
      "ASI_OSS_times_white       90 non-null float64\n",
      "HI_PAC_OSS_times_white    90 non-null float64\n",
      "BLA_OSS_times_white       90 non-null float64\n",
      "HIS_OSS_times_white       90 non-null float64\n",
      "TWO_OSS_times_white       90 non-null float64\n",
      "TOT_n_enrollment          90 non-null int64\n",
      "dtypes: float64(7), int64(55), object(7)\n",
      "memory usage: 48.6+ KB\n"
     ]
    }
   ],
   "source": [
    "suspensions_all_data.info()"
   ]
  },
  {
   "cell_type": "markdown",
   "metadata": {},
   "source": [
    "### First look at clustering based on graduation rates only, also broken down by race"
   ]
  },
  {
   "cell_type": "code",
   "execution_count": null,
   "metadata": {},
   "outputs": [],
   "source": [
    "#We do not need the school name, NCESSCH, FIPST, or LEAID variables in clustering. We also remove the statename and leanm\n",
    "cluster_data=grad_2015.drop(['NCESSCH', 'FIPST', 'LEAID', 'SCHNAM', 'DATE_CUR', 'STNAM', 'LEANM'], axis=1)\n",
    "cluster_data.head()"
   ]
  },
  {
   "cell_type": "code",
   "execution_count": null,
   "metadata": {},
   "outputs": [],
   "source": [
    "## Start with Principal Component Analysis (PCA) to visuzlize data and see if there are any clusters\n",
    "\n",
    "PCA takes all of the data variables for each datapoint, and trys to create n axis (usually 2-3) that summarizes all of that variability into a meaningful way. Example, if we start with 10 variables, we could condense this down into 2 variables and then plot the data on these new 2 variable axes (like an x-y axis plot).\n"
   ]
  },
  {
   "cell_type": "code",
   "execution_count": null,
   "metadata": {},
   "outputs": [],
   "source": [
    "# 1. Use StandardScaler to help you standardize the dataset’s features onto unit scale (mean = 0 and variance = 1) \n",
    "from sklearn.preprocessing import StandardScaler\n",
    "\n",
    "# Standardizing the features\n",
    "cluster_data.iloc[:, 2:] = StandardScaler().fit_transform(cluster_data.iloc[:, 2:])"
   ]
  },
  {
   "cell_type": "code",
   "execution_count": null,
   "metadata": {},
   "outputs": [],
   "source": [
    "from sklearn.decomposition import PCA\n",
    "\n",
    "pca = PCA(n_components=2)\n",
    "\n",
    "principalComponents = pca.fit_transform(cluster_data)\n",
    "\n",
    "principalDf = pd.DataFrame(data = principalComponents\n",
    "            , columns = ['principal component 1', 'principal component 2'])"
   ]
  },
  {
   "cell_type": "code",
   "execution_count": null,
   "metadata": {},
   "outputs": [],
   "source": [
    "principalDf.head()\n",
    "\n",
    "plt.scatter(principalDf['principal component 1'],principalDf['principal component 2'], s=50)"
   ]
  },
  {
   "cell_type": "code",
   "execution_count": null,
   "metadata": {},
   "outputs": [],
   "source": [
    "from sklearn.cluster import KMeans\n",
    "#do k-means clustering on 2 components created earlier\n",
    "labels = KMeans(2, random_state=0).fit_predict(principalDf)\n",
    "labels"
   ]
  },
  {
   "cell_type": "code",
   "execution_count": null,
   "metadata": {},
   "outputs": [],
   "source": [
    "principalDf['kmeans']=labels\n",
    "plt.scatter(principalDf['principal component 1'],principalDf['principal component 2'], s=50, c=labels)"
   ]
  },
  {
   "cell_type": "code",
   "execution_count": null,
   "metadata": {},
   "outputs": [],
   "source": [
    "cluster_data['kmeans']=labels\n",
    "grad_2015['kmeans']=labels"
   ]
  },
  {
   "cell_type": "markdown",
   "metadata": {},
   "source": [
    "Let's see how the cluster classification compares across different graduating trends by race"
   ]
  },
  {
   "cell_type": "code",
   "execution_count": null,
   "metadata": {},
   "outputs": [],
   "source": [
    "grad_2015[['kmeans', 'ALL_RATE_1516', 'MBL_RATE_1516']].groupby(['kmeans'], as_index=False).mean()"
   ]
  },
  {
   "cell_type": "code",
   "execution_count": null,
   "metadata": {},
   "outputs": [],
   "source": [
    "Clustering on just the graduation data did not seem to help, let's see if pulling in other data will improve our model.\n"
   ]
  }
 ],
 "metadata": {
  "kernelspec": {
   "display_name": "Python 3",
   "language": "python",
   "name": "python3"
  },
  "language_info": {
   "codemirror_mode": {
    "name": "ipython",
    "version": 3
   },
   "file_extension": ".py",
   "mimetype": "text/x-python",
   "name": "python",
   "nbconvert_exporter": "python",
   "pygments_lexer": "ipython3",
   "version": "3.6.6"
  }
 },
 "nbformat": 4,
 "nbformat_minor": 2
}
