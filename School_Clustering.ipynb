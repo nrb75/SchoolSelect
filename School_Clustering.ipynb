{
 "cells": [
  {
   "cell_type": "markdown",
   "metadata": {},
   "source": [
    "# Schools in Greenville, SC, How are they similar? \n",
    "\n",
    "First do data preprocessing in the \"School_data_preprocessing\" notebook.\n"
   ]
  },
  {
   "cell_type": "markdown",
   "metadata": {},
   "source": [
    "The data sources are:\n",
    "\n",
    "2015-2016 graduation rates: https://www2.ed.gov/about/inits/ed/edfacts/data-files/index.html#acgr\n",
    "\n",
    "2015-2016 school location, characteristics, staff, and lunch programs: https://nces.ed.gov/ccd/pubschuniv.asp\n",
    "\n",
    "2015-2016 school achievement: https://www2.ed.gov/about/inits/ed/edfacts/data-files/index.html#acgr\n",
    "\n",
    "2015-2016 suspenion rates: https://ocrdata.ed.gov/DataAnalysisTools/DataSetBuilder?Report=4\n",
    "for this analysis, we only focused on the greenville district schools, but you could select other areas of interest.\n",
    "    "
   ]
  },
  {
   "cell_type": "code",
   "execution_count": 111,
   "metadata": {},
   "outputs": [],
   "source": [
    "import numpy as np\n",
    "import pandas as pd\n",
    "import sys\n",
    "import matplotlib as mpl\n",
    "import matplotlib.pyplot as plt\n",
    "import seaborn as sns\n",
    "#Import data that has already been cleaned\n",
    "path='/home/natalie/Documents/SchoolAPI/CleanedData/'\n",
    "\n",
    "all_data=pd.read_csv(path+'all_data.csv', parse_dates=True) #includes school membership, math and reading scores\n",
    "\n",
    "grad_all_data=pd.read_csv(path+'grad_all_data.csv', parse_dates=True)#includes school membership, math and reading scores, but since graduation rates are limited to high schools, this data is high school specific \n",
    "\n",
    "suspensions_all_data=pd.read_csv(path+'suspensions_all_data.csv', parse_dates=True) #includes all of the school membership, math and reading scores, but since suspensions were for Greenville County only, this data is limited to Greenville.\n",
    "\n",
    "suspensions_grad_greenville=pd.read_csv(path+'suspensions_grad_greenville.csv', parse_dates=True)#graduation high school rates, plus suspensions in Greenville only"
   ]
  },
  {
   "cell_type": "markdown",
   "metadata": {},
   "source": [
    "## The \"All_Cohort\" variable is all students in that school, then they are broken down into racial groups.\n",
    "\n",
    "MAM = American Indian/Alaska Native students\n",
    "\n",
    "MAS = Asian/Pacific Islander\n",
    "\n",
    "MHI = Hispanic/Latino\n",
    "\n",
    "MBL = Black\n",
    "\n",
    "MWH = White\n",
    "\n",
    "MTR = Two or more races\n",
    "\n",
    "CWD = disabilities\n",
    "\n",
    "ECD = Economically disadvanted\n",
    "\n",
    "LEP = Limited English Proficiency"
   ]
  },
  {
   "cell_type": "markdown",
   "metadata": {},
   "source": [
    "Double check that all missing values are correctly filled in or removed prior to clustering algorithims which cannot handle NAs"
   ]
  },
  {
   "cell_type": "code",
   "execution_count": 112,
   "metadata": {},
   "outputs": [
    {
     "data": {
      "text/plain": [
       "Unnamed: 0             0.0\n",
       "FIPST                  0.0\n",
       "NCESSCH                0.0\n",
       "LCITY                  0.0\n",
       "LZIP                   0.0\n",
       "G1OFFERED              0.0\n",
       "G8OFFERED              0.0\n",
       "G12OFFERED             0.0\n",
       "NOGRADES               0.0\n",
       "type_school            0.0\n",
       "SCH_NAME_n_students    0.0\n",
       "G01_n_students         0.0\n",
       "G08_n_students         0.0\n",
       "G12_n_students         0.0\n",
       "TOTAL_n_students       0.0\n",
       "AM_n_students          0.0\n",
       "AMALM_n_students       0.0\n",
       "AMALF_n_students       0.0\n",
       "AS_n_students          0.0\n",
       "ASALM_n_students       0.0\n",
       "ASALF_n_students       0.0\n",
       "HI_n_students          0.0\n",
       "HIALM_n_students       0.0\n",
       "HIALF_n_students       0.0\n",
       "BL_n_students          0.0\n",
       "BLALM_n_students       0.0\n",
       "BLALF_n_students       0.0\n",
       "WH_n_students          0.0\n",
       "WHALM_n_students       0.0\n",
       "WHALF_n_students       0.0\n",
       "                      ... \n",
       "F_RLA00PCTPROF         0.0\n",
       "M_RLA00NUMVALID        0.0\n",
       "M_RLA00PCTPROF         0.0\n",
       "MBL_RLAHSNUMVALID      0.0\n",
       "MBL_RLAHSPCTPROF       0.0\n",
       "MWH_RLAHSNUMVALID      0.0\n",
       "MWH_RLAHSPCTPROF       0.0\n",
       "STNAM_y                0.0\n",
       "LEANM_y                0.0\n",
       "ALL_MTH00NUMVALID      0.0\n",
       "ALL_MTH00PCTPROF       0.0\n",
       "F_MTH00NUMVALID        0.0\n",
       "F_MTH00PCTPROF         0.0\n",
       "M_MTH00NUMVALID        0.0\n",
       "M_MTH00PCTPROF         0.0\n",
       "MBL_MTHHSNUMVALID      0.0\n",
       "MBL_MTHHSPCTPROF       0.0\n",
       "MWH_MTHHSNUMVALID      0.0\n",
       "MWH_MTHHSPCTPROF       0.0\n",
       "ALL_COHORT             0.0\n",
       "ALL_RATE               0.0\n",
       "MAM_RATE               0.0\n",
       "MAS_RATE               0.0\n",
       "MBL_RATE               0.0\n",
       "MHI_RATE               0.0\n",
       "MTR_RATE               0.0\n",
       "MWH_RATE               0.0\n",
       "CWD_RATE               0.0\n",
       "ECD_RATE               0.0\n",
       "LEP_RATE               0.0\n",
       "Length: 72, dtype: float64"
      ]
     },
     "execution_count": 112,
     "metadata": {},
     "output_type": "execute_result"
    }
   ],
   "source": [
    "na_list=grad_all_data.isna().sum()\n",
    "na_list/len(grad_all_data) # percentage\n",
    "#Because many of these race groups are so small the PS identifier was used, and then converted to NA."
   ]
  },
  {
   "cell_type": "code",
   "execution_count": 113,
   "metadata": {},
   "outputs": [
    {
     "data": {
      "text/plain": [
       "(array([ 277.,  572.,  419.,  462.,  114., 1932.,  909., 2581., 5649.,\n",
       "        8752.]),\n",
       " array([ 1. , 10.8, 20.6, 30.4, 40.2, 50. , 59.8, 69.6, 79.4, 89.2, 99. ]),\n",
       " <a list of 10 Patch objects>)"
      ]
     },
     "execution_count": 113,
     "metadata": {},
     "output_type": "execute_result"
    },
    {
     "data": {
      "image/png": "[encoded data removed]",
      "text/plain": [
       "<Figure size 432x288 with 1 Axes>"
      ]
     },
     "metadata": {},
     "output_type": "display_data"
    }
   ],
   "source": [
    "plt.hist(grad_all_data['ALL_RATE']) #most schools have above 80% graduation, but there is some negative skewing down towards lower rates."
   ]
  },
  {
   "cell_type": "markdown",
   "metadata": {},
   "source": [
    "Let's see how school suspensions correlate with graduation rates.\n",
    "Plot the percentage of total students graduating vs the total number of suspensions for that group"
   ]
  },
  {
   "cell_type": "code",
   "execution_count": 114,
   "metadata": {},
   "outputs": [
    {
     "name": "stdout",
     "output_type": "stream",
     "text": [
      "<class 'pandas.core.frame.DataFrame'>\n",
      "RangeIndex: 19 entries, 0 to 18\n",
      "Data columns (total 83 columns):\n",
      "Unnamed: 0                19 non-null int64\n",
      "FIPST                     19 non-null int64\n",
      "NCESSCH                   19 non-null int64\n",
      "LCITY                     19 non-null object\n",
      "LZIP                      19 non-null int64\n",
      "G1OFFERED                 19 non-null int64\n",
      "G8OFFERED                 19 non-null int64\n",
      "G12OFFERED                19 non-null int64\n",
      "NOGRADES                  19 non-null int64\n",
      "type_school               19 non-null object\n",
      "SCH_NAME_n_students       19 non-null object\n",
      "G01_n_students            19 non-null int64\n",
      "G08_n_students            19 non-null int64\n",
      "G12_n_students            19 non-null int64\n",
      "TOTAL_n_students          19 non-null int64\n",
      "AM_n_students             19 non-null int64\n",
      "AMALM_n_students          19 non-null int64\n",
      "AMALF_n_students          19 non-null int64\n",
      "AS_n_students             19 non-null int64\n",
      "ASALM_n_students          19 non-null int64\n",
      "ASALF_n_students          19 non-null int64\n",
      "HI_n_students             19 non-null int64\n",
      "HIALM_n_students          19 non-null int64\n",
      "HIALF_n_students          19 non-null int64\n",
      "BL_n_students             19 non-null int64\n",
      "BLALM_n_students          19 non-null int64\n",
      "BLALF_n_students          19 non-null int64\n",
      "WH_n_students             19 non-null int64\n",
      "WHALM_n_students          19 non-null int64\n",
      "WHALF_n_students          19 non-null int64\n",
      "HP_n_students             19 non-null int64\n",
      "HPALM_n_students          19 non-null int64\n",
      "HPALF_n_students          19 non-null int64\n",
      "TR_n_students             19 non-null int64\n",
      "TRALM_n_students          19 non-null int64\n",
      "TRALF_n_students          19 non-null int64\n",
      "FTE                       19 non-null float64\n",
      "STNAM_x                   19 non-null object\n",
      "LEANM_x                   19 non-null object\n",
      "ALL_RLA00NUMVALID         19 non-null int64\n",
      "ALL_RLA00PCTPROF          19 non-null object\n",
      "F_RLA00NUMVALID           19 non-null int64\n",
      "F_RLA00PCTPROF            19 non-null object\n",
      "M_RLA00NUMVALID           19 non-null int64\n",
      "M_RLA00PCTPROF            19 non-null object\n",
      "MBL_RLAHSNUMVALID         19 non-null int64\n",
      "MBL_RLAHSPCTPROF          19 non-null object\n",
      "MWH_RLAHSNUMVALID         19 non-null int64\n",
      "MWH_RLAHSPCTPROF          19 non-null object\n",
      "STNAM_y                   19 non-null object\n",
      "LEANM_y                   19 non-null object\n",
      "ALL_MTH00NUMVALID         19 non-null int64\n",
      "ALL_MTH00PCTPROF          19 non-null int64\n",
      "F_MTH00NUMVALID           19 non-null int64\n",
      "F_MTH00PCTPROF            19 non-null int64\n",
      "M_MTH00NUMVALID           19 non-null int64\n",
      "M_MTH00PCTPROF            19 non-null int64\n",
      "MBL_MTHHSNUMVALID         19 non-null int64\n",
      "MBL_MTHHSPCTPROF          19 non-null int64\n",
      "MWH_MTHHSNUMVALID         19 non-null int64\n",
      "MWH_MTHHSPCTPROF          19 non-null int64\n",
      "ALL_COHORT                19 non-null float64\n",
      "ALL_RATE                  19 non-null float64\n",
      "MAM_RATE                  19 non-null float64\n",
      "MAS_RATE                  19 non-null float64\n",
      "MBL_RATE                  19 non-null float64\n",
      "MHI_RATE                  19 non-null float64\n",
      "MTR_RATE                  19 non-null float64\n",
      "MWH_RATE                  19 non-null float64\n",
      "CWD_RATE                  19 non-null float64\n",
      "ECD_RATE                  19 non-null float64\n",
      "LEP_RATE                  19 non-null float64\n",
      "TOT_n_susp                19 non-null int64\n",
      "TOT_OSS_rate              19 non-null float64\n",
      "BLA_OSS_rate              19 non-null float64\n",
      "WHI_OSS_rate              19 non-null float64\n",
      "AME_OSS_times_white       19 non-null float64\n",
      "ASI_OSS_times_white       19 non-null float64\n",
      "HI_PAC_OSS_times_white    19 non-null float64\n",
      "BLA_OSS_times_white       19 non-null float64\n",
      "HIS_OSS_times_white       19 non-null float64\n",
      "TWO_OSS_times_white       19 non-null float64\n",
      "TOT_n_enrollment          19 non-null int64\n",
      "dtypes: float64(21), int64(50), object(12)\n",
      "memory usage: 12.4+ KB\n"
     ]
    }
   ],
   "source": [
    "suspensions_grad_greenville.info()"
   ]
  },
  {
   "cell_type": "code",
   "execution_count": 115,
   "metadata": {},
   "outputs": [
    {
     "data": {
      "text/plain": [
       "Text(0,0.5,'rate of graduation (%)')"
      ]
     },
     "execution_count": 115,
     "metadata": {},
     "output_type": "execute_result"
    },
    {
     "data": {
      "image/png": "[encoded data removed]",
      "text/plain": [
       "<Figure size 432x288 with 1 Axes>"
      ]
     },
     "metadata": {},
     "output_type": "display_data"
    }
   ],
   "source": [
    "plt.scatter(suspensions_grad_greenville['TOT_OSS_rate'],  suspensions_grad_greenville['ALL_RATE'])\n",
    "plt.title('ALL High School Graduation vs. Suspensions')\n",
    "plt.xlabel('total suspension rate (%)')\n",
    "plt.ylabel('rate of graduation (%)')"
   ]
  },
  {
   "cell_type": "markdown",
   "metadata": {},
   "source": [
    "### Math competence vs. suspensions for all students"
   ]
  },
  {
   "cell_type": "code",
   "execution_count": 116,
   "metadata": {},
   "outputs": [
    {
     "data": {
      "text/plain": [
       "Text(0,0.5,'percentage of all students proficient in math')"
      ]
     },
     "execution_count": 116,
     "metadata": {},
     "output_type": "execute_result"
    },
    {
     "data": {
      "image/png": "[encoded data removed]",
      "text/plain": [
       "<Figure size 432x288 with 1 Axes>"
      ]
     },
     "metadata": {},
     "output_type": "display_data"
    }
   ],
   "source": [
    "plt.scatter(suspensions_all_data['TOT_OSS_rate'],  suspensions_all_data['ALL_MTH00PCTPROF'])\n",
    "plt.title('Allstudent suspensions vs math proficiency')\n",
    "plt.xlabel('student suspensions (%)')\n",
    "plt.ylabel('percentage of all students proficient in math')"
   ]
  },
  {
   "cell_type": "markdown",
   "metadata": {},
   "source": [
    "This has a trend we expect, as the number of suspensions increases the % of students proficient in math tends to decrease"
   ]
  },
  {
   "cell_type": "markdown",
   "metadata": {},
   "source": [
    "## Let's compare suspension rate by race. \n",
    "When there is a very small group of students, the data is removed to protect privacy. Thus, there are many instances where the rates are shown as \"0\". Therefore, for this analysis we will remove these \"0\" entries.\n"
   ]
  },
  {
   "cell_type": "code",
   "execution_count": 70,
   "metadata": {},
   "outputs": [],
   "source": [
    "susp_list=['TOT_OSS_rate', 'BLA_OSS_rate', 'WHI_OSS_rate']\n",
    "suspensions_all_data_zerorm=suspensions_all_data\n",
    "for i in susp_list:\n",
    "    suspensions_all_data_zerorm=suspensions_all_data_zerorm[suspensions_all_data_zerorm[i] !=0]\n"
   ]
  },
  {
   "cell_type": "code",
   "execution_count": 123,
   "metadata": {},
   "outputs": [
    {
     "data": {
      "text/html": [
       "<div>\n",
       "<style scoped>\n",
       "    .dataframe tbody tr th:only-of-type {\n",
       "        vertical-align: middle;\n",
       "    }\n",
       "\n",
       "    .dataframe tbody tr th {\n",
       "        vertical-align: top;\n",
       "    }\n",
       "\n",
       "    .dataframe thead th {\n",
       "        text-align: right;\n",
       "    }\n",
       "</style>\n",
       "<table border=\"1\" class=\"dataframe\">\n",
       "  <thead>\n",
       "    <tr style=\"text-align: right;\">\n",
       "      <th></th>\n",
       "      <th>OSS_rate</th>\n",
       "      <th>type</th>\n",
       "    </tr>\n",
       "  </thead>\n",
       "  <tbody>\n",
       "  </tbody>\n",
       "</table>\n",
       "</div>"
      ],
      "text/plain": [
       "Empty DataFrame\n",
       "Columns: [OSS_rate, type]\n",
       "Index: []"
      ]
     },
     "execution_count": 123,
     "metadata": {},
     "output_type": "execute_result"
    }
   ],
   "source": [
    "#suspensions_trans1=[]\n",
    "tot_oss=pd.DataFrame(columns=['OSS_rate','type'])\n",
    "tot_oss['OSS_rate']=suspensions_all_data_zerorm['TOT_OSS_rate'][0:89,]\n",
    "tot_oss['type']='Total'\n",
    "tot_oss=tot_oss.iloc[:-1] #unclear why it adds a 'total' to the bottom in the rate column\n"
   ]
  },
  {
   "cell_type": "code",
   "execution_count": 124,
   "metadata": {},
   "outputs": [],
   "source": [
    "BLA_oss=pd.DataFrame(columns=['OSS_rate','type'])\n",
    "BLA_oss['OSS_rate']=suspensions_all_data_zerorm['BLA_OSS_rate']\n",
    "BLA_oss['type']='BLA'\n",
    "\n",
    "WH_oss=pd.DataFrame(columns=['OSS_rate','type'])\n",
    "WH_oss['OSS_rate']=suspensions_all_data_zerorm['WHI_OSS_rate']\n",
    "WH_oss['type']='WHI'\n",
    "\n",
    "oss_race_rate=pd.concat([tot_oss, BLA_oss, WH_oss])\n",
    "oss_race_rate['OSS_rate']=oss_race_rate['OSS_rate'].astype(str).astype(float)"
   ]
  },
  {
   "cell_type": "code",
   "execution_count": 125,
   "metadata": {},
   "outputs": [
    {
     "data": {
      "text/plain": [
       "<matplotlib.axes._subplots.AxesSubplot at 0x7f6233856278>"
      ]
     },
     "execution_count": 125,
     "metadata": {},
     "output_type": "execute_result"
    },
    {
     "data": {
      "image/png": "[encoded data removed]",
      "text/plain": [
       "<Figure size 432x288 with 1 Axes>"
      ]
     },
     "metadata": {},
     "output_type": "display_data"
    }
   ],
   "source": [
    "import seaborn as sns\n",
    "# Make boxplot for one group only\n",
    "\n",
    "sns.boxplot( y=oss_race_rate['OSS_rate'], x=oss_race_rate['type'])"
   ]
  },
  {
   "cell_type": "markdown",
   "metadata": {},
   "source": [
    "It appears the suspension rate of black students is higher than white students, let's check the statstical significane."
   ]
  },
  {
   "cell_type": "code",
   "execution_count": 131,
   "metadata": {},
   "outputs": [
    {
     "name": "stdout",
     "output_type": "stream",
     "text": [
      "                            OLS Regression Results                            \n",
      "==============================================================================\n",
      "Dep. Variable:               OSS_rate   R-squared:                       0.224\n",
      "Model:                            OLS   Adj. R-squared:                  0.218\n",
      "Method:                 Least Squares   F-statistic:                     35.97\n",
      "Date:                Wed, 05 Sep 2018   Prob (F-statistic):           1.89e-14\n",
      "Time:                        14:44:18   Log-Likelihood:                -896.57\n",
      "No. Observations:                 252   AIC:                             1799.\n",
      "Df Residuals:                     249   BIC:                             1810.\n",
      "Df Model:                           2                                         \n",
      "Covariance Type:            nonrobust                                         \n",
      "=================================================================================\n",
      "                    coef    std err          t      P>|t|      [0.025      0.975]\n",
      "---------------------------------------------------------------------------------\n",
      "Intercept        17.1490      0.932     18.403      0.000      15.314      18.984\n",
      "type[T.Total]    -8.1807      1.318     -6.208      0.000     -10.776      -5.585\n",
      "type[T.WHI]     -10.6877      1.318     -8.110      0.000     -13.283      -8.092\n",
      "==============================================================================\n",
      "Omnibus:                       59.122   Durbin-Watson:                   1.549\n",
      "Prob(Omnibus):                  0.000   Jarque-Bera (JB):              112.878\n",
      "Skew:                           1.200   Prob(JB):                     3.08e-25\n",
      "Kurtosis:                       5.235   Cond. No.                         3.73\n",
      "==============================================================================\n",
      "\n",
      "Warnings:\n",
      "[1] Standard Errors assume that the covariance matrix of the errors is correctly specified.\n"
     ]
    }
   ],
   "source": [
    "#ANOVA to compare the three groups of suspension rates\n",
    "\n",
    "#first create simple linear regression only using the type of race as a predictor\n",
    "from scipy import stats\n",
    "import statsmodels.api as sm\n",
    "from statsmodels.formula.api import ols\n",
    "model = ols('OSS_rate ~ type', oss_race_rate).fit()\n",
    "\n",
    "print(model.summary())  "
   ]
  },
  {
   "cell_type": "code",
   "execution_count": 133,
   "metadata": {},
   "outputs": [
    {
     "data": {
      "text/html": [
       "<div>\n",
       "<style scoped>\n",
       "    .dataframe tbody tr th:only-of-type {\n",
       "        vertical-align: middle;\n",
       "    }\n",
       "\n",
       "    .dataframe tbody tr th {\n",
       "        vertical-align: top;\n",
       "    }\n",
       "\n",
       "    .dataframe thead th {\n",
       "        text-align: right;\n",
       "    }\n",
       "</style>\n",
       "<table border=\"1\" class=\"dataframe\">\n",
       "  <thead>\n",
       "    <tr style=\"text-align: right;\">\n",
       "      <th></th>\n",
       "      <th>sum_sq</th>\n",
       "      <th>df</th>\n",
       "      <th>F</th>\n",
       "      <th>PR(&gt;F)</th>\n",
       "    </tr>\n",
       "  </thead>\n",
       "  <tbody>\n",
       "    <tr>\n",
       "      <th>type</th>\n",
       "      <td>5248.236006</td>\n",
       "      <td>2.0</td>\n",
       "      <td>35.973879</td>\n",
       "      <td>1.886873e-14</td>\n",
       "    </tr>\n",
       "    <tr>\n",
       "      <th>Residual</th>\n",
       "      <td>18163.328646</td>\n",
       "      <td>249.0</td>\n",
       "      <td>NaN</td>\n",
       "      <td>NaN</td>\n",
       "    </tr>\n",
       "  </tbody>\n",
       "</table>\n",
       "</div>"
      ],
      "text/plain": [
       "                sum_sq     df          F        PR(>F)\n",
       "type       5248.236006    2.0  35.973879  1.886873e-14\n",
       "Residual  18163.328646  249.0        NaN           NaN"
      ]
     },
     "execution_count": 133,
     "metadata": {},
     "output_type": "execute_result"
    }
   ],
   "source": [
    "#ANOVA table\n",
    "\n",
    "aov_table = sm.stats.anova_lm(model, typ=2)\n",
    "aov_table"
   ]
  },
  {
   "cell_type": "markdown",
   "metadata": {},
   "source": [
    "#### Do suspensions rates for different races, correlate with math competence?\n",
    "\n",
    "suspensions are shown in 'times white', which indicates afor example, suspension for black students are 4X higher than white students."
   ]
  },
  {
   "cell_type": "markdown",
   "metadata": {},
   "source": [
    "MBL_MTHHSPCTPROF = percentage of black students in school who are proficient in math\n",
    "BLA_OSS_times_white = suspension rate of black students comapred to whtie students"
   ]
  },
  {
   "cell_type": "code",
   "execution_count": 42,
   "metadata": {},
   "outputs": [
    {
     "data": {
      "text/plain": [
       "Text(0,0.5,'percentage of group proficient in math')"
      ]
     },
     "execution_count": 42,
     "metadata": {},
     "output_type": "execute_result"
    },
    {
     "data": {
      "image/png": "[encoded data removed]",
      "text/plain": [
       "<Figure size 432x288 with 1 Axes>"
      ]
     },
     "metadata": {},
     "output_type": "display_data"
    }
   ],
   "source": [
    "plt.scatter(suspensions_all_data['BLA_OSS_times_white'],  suspensions_all_data['MBL_MTHHSPCTPROF'])\n",
    "plt.title('Black student suspensions vs math proficiency')\n",
    "plt.xlabel('black suspensions X times likely than white')\n",
    "plt.ylabel('percentage of group proficient in math')"
   ]
  },
  {
   "cell_type": "code",
   "execution_count": 44,
   "metadata": {},
   "outputs": [
    {
     "data": {
      "text/plain": [
       "Text(0,0.5,'percentage of group proficient in reading')"
      ]
     },
     "execution_count": 44,
     "metadata": {},
     "output_type": "execute_result"
    },
    {
     "data": {
      "image/png": "[encoded data removed]",
      "text/plain": [
       "<Figure size 432x288 with 1 Axes>"
      ]
     },
     "metadata": {},
     "output_type": "display_data"
    }
   ],
   "source": [
    "plt.scatter(suspensions_all_data['BLA_OSS_times_white'],  suspensions_all_data['MBL_RLAHSPCTPROF'])\n",
    "plt.title('Black student suspensions vs math proficiency')\n",
    "plt.xlabel('black suspensions X times likely than white')\n",
    "plt.ylabel('percentage of group proficient in reading')\n",
    "#there are many missing data points, coded here as '0' for proficient, so that doesn't help our analysis much"
   ]
  },
  {
   "cell_type": "code",
   "execution_count": 40,
   "metadata": {},
   "outputs": [
    {
     "name": "stdout",
     "output_type": "stream",
     "text": [
      "<class 'pandas.core.frame.DataFrame'>\n",
      "RangeIndex: 90 entries, 0 to 89\n",
      "Data columns (total 69 columns):\n",
      "Unnamed: 0                90 non-null int64\n",
      "FIPST                     90 non-null int64\n",
      "NCESSCH                   90 non-null int64\n",
      "LCITY                     90 non-null object\n",
      "LZIP                      90 non-null int64\n",
      "G1OFFERED                 90 non-null int64\n",
      "G8OFFERED                 90 non-null int64\n",
      "G12OFFERED                90 non-null int64\n",
      "NOGRADES                  90 non-null int64\n",
      "type_school               90 non-null object\n",
      "SCH_NAME_n_students       90 non-null object\n",
      "G01_n_students            90 non-null int64\n",
      "G08_n_students            90 non-null int64\n",
      "G12_n_students            90 non-null int64\n",
      "TOTAL_n_students          90 non-null int64\n",
      "AM_n_students             90 non-null int64\n",
      "AMALM_n_students          90 non-null int64\n",
      "AMALF_n_students          90 non-null int64\n",
      "AS_n_students             90 non-null int64\n",
      "ASALM_n_students          90 non-null int64\n",
      "ASALF_n_students          90 non-null int64\n",
      "HI_n_students             90 non-null int64\n",
      "HIALM_n_students          90 non-null int64\n",
      "HIALF_n_students          90 non-null int64\n",
      "BL_n_students             90 non-null int64\n",
      "BLALM_n_students          90 non-null int64\n",
      "BLALF_n_students          90 non-null int64\n",
      "WH_n_students             90 non-null int64\n",
      "WHALM_n_students          90 non-null int64\n",
      "WHALF_n_students          90 non-null int64\n",
      "HP_n_students             90 non-null int64\n",
      "HPALM_n_students          90 non-null int64\n",
      "HPALF_n_students          90 non-null int64\n",
      "TR_n_students             90 non-null int64\n",
      "TRALM_n_students          90 non-null int64\n",
      "TRALF_n_students          90 non-null int64\n",
      "FTE                       90 non-null float64\n",
      "STNAM_x                   90 non-null object\n",
      "LEANM_x                   90 non-null object\n",
      "ALL_RLA00NUMVALID         90 non-null int64\n",
      "ALL_RLA00PCTPROF          90 non-null int64\n",
      "F_RLA00NUMVALID           90 non-null int64\n",
      "F_RLA00PCTPROF            90 non-null int64\n",
      "M_RLA00NUMVALID           90 non-null int64\n",
      "M_RLA00PCTPROF            90 non-null int64\n",
      "MBL_RLAHSNUMVALID         90 non-null int64\n",
      "MBL_RLAHSPCTPROF          90 non-null int64\n",
      "MWH_RLAHSNUMVALID         90 non-null int64\n",
      "MWH_RLAHSPCTPROF          90 non-null int64\n",
      "STNAM_y                   90 non-null object\n",
      "LEANM_y                   90 non-null object\n",
      "ALL_MTH00NUMVALID         90 non-null int64\n",
      "ALL_MTH00PCTPROF          90 non-null int64\n",
      "F_MTH00NUMVALID           90 non-null int64\n",
      "F_MTH00PCTPROF            90 non-null int64\n",
      "M_MTH00NUMVALID           90 non-null int64\n",
      "M_MTH00PCTPROF            90 non-null int64\n",
      "MBL_MTHHSNUMVALID         90 non-null int64\n",
      "MBL_MTHHSPCTPROF          90 non-null int64\n",
      "MWH_MTHHSNUMVALID         90 non-null int64\n",
      "MWH_MTHHSPCTPROF          90 non-null int64\n",
      "TOT_n_susp                90 non-null int64\n",
      "AME_OSS_times_white       90 non-null float64\n",
      "ASI_OSS_times_white       90 non-null float64\n",
      "HI_PAC_OSS_times_white    90 non-null float64\n",
      "BLA_OSS_times_white       90 non-null float64\n",
      "HIS_OSS_times_white       90 non-null float64\n",
      "TWO_OSS_times_white       90 non-null float64\n",
      "TOT_n_enrollment          90 non-null int64\n",
      "dtypes: float64(7), int64(55), object(7)\n",
      "memory usage: 48.6+ KB\n"
     ]
    }
   ],
   "source": [
    "suspensions_all_data.info()"
   ]
  },
  {
   "cell_type": "markdown",
   "metadata": {},
   "source": [
    "### First look at clustering based on graduation rates only, also broken down by race"
   ]
  },
  {
   "cell_type": "code",
   "execution_count": null,
   "metadata": {},
   "outputs": [],
   "source": [
    "#We do not need the school name, NCESSCH, FIPST, or LEAID variables in clustering. We also remove the statename and leanm\n",
    "cluster_data=grad_2015.drop(['NCESSCH', 'FIPST', 'LEAID', 'SCHNAM', 'DATE_CUR', 'STNAM', 'LEANM'], axis=1)\n",
    "cluster_data.head()"
   ]
  },
  {
   "cell_type": "code",
   "execution_count": null,
   "metadata": {},
   "outputs": [],
   "source": [
    "## Start with Principal Component Analysis (PCA) to visuzlize data and see if there are any clusters\n",
    "\n",
    "PCA takes all of the data variables for each datapoint, and trys to create n axis (usually 2-3) that summarizes all of that variability into a meaningful way. Example, if we start with 10 variables, we could condense this down into 2 variables and then plot the data on these new 2 variable axes (like an x-y axis plot).\n"
   ]
  },
  {
   "cell_type": "code",
   "execution_count": null,
   "metadata": {},
   "outputs": [],
   "source": [
    "# 1. Use StandardScaler to help you standardize the dataset’s features onto unit scale (mean = 0 and variance = 1) \n",
    "from sklearn.preprocessing import StandardScaler\n",
    "\n",
    "# Standardizing the features\n",
    "cluster_data.iloc[:, 2:] = StandardScaler().fit_transform(cluster_data.iloc[:, 2:])"
   ]
  },
  {
   "cell_type": "code",
   "execution_count": null,
   "metadata": {},
   "outputs": [],
   "source": [
    "from sklearn.decomposition import PCA\n",
    "\n",
    "pca = PCA(n_components=2)\n",
    "\n",
    "principalComponents = pca.fit_transform(cluster_data)\n",
    "\n",
    "principalDf = pd.DataFrame(data = principalComponents\n",
    "            , columns = ['principal component 1', 'principal component 2'])"
   ]
  },
  {
   "cell_type": "code",
   "execution_count": null,
   "metadata": {},
   "outputs": [],
   "source": [
    "principalDf.head()\n",
    "\n",
    "plt.scatter(principalDf['principal component 1'],principalDf['principal component 2'], s=50)"
   ]
  },
  {
   "cell_type": "code",
   "execution_count": null,
   "metadata": {},
   "outputs": [],
   "source": [
    "from sklearn.cluster import KMeans\n",
    "#do k-means clustering on 2 components created earlier\n",
    "labels = KMeans(2, random_state=0).fit_predict(principalDf)\n",
    "labels"
   ]
  },
  {
   "cell_type": "code",
   "execution_count": null,
   "metadata": {},
   "outputs": [],
   "source": [
    "principalDf['kmeans']=labels\n",
    "plt.scatter(principalDf['principal component 1'],principalDf['principal component 2'], s=50, c=labels)"
   ]
  },
  {
   "cell_type": "code",
   "execution_count": null,
   "metadata": {},
   "outputs": [],
   "source": [
    "cluster_data['kmeans']=labels\n",
    "grad_2015['kmeans']=labels"
   ]
  },
  {
   "cell_type": "markdown",
   "metadata": {},
   "source": [
    "Let's see how the cluster classification compares across different graduating trends by race"
   ]
  },
  {
   "cell_type": "code",
   "execution_count": null,
   "metadata": {},
   "outputs": [],
   "source": [
    "grad_2015[['kmeans', 'ALL_RATE_1516', 'MBL_RATE_1516']].groupby(['kmeans'], as_index=False).mean()"
   ]
  },
  {
   "cell_type": "code",
   "execution_count": null,
   "metadata": {},
   "outputs": [],
   "source": [
    "Clustering on just the graduation data did not seem to help, let's see if pulling in other data will improve our model.\n"
   ]
  }
 ],
 "metadata": {
  "kernelspec": {
   "display_name": "Python 3",
   "language": "python",
   "name": "python3"
  },
  "language_info": {
   "codemirror_mode": {
    "name": "ipython",
    "version": 3
   },
   "file_extension": ".py",
   "mimetype": "text/x-python",
   "name": "python",
   "nbconvert_exporter": "python",
   "pygments_lexer": "ipython3",
   "version": "3.6.6"
  }
 },
 "nbformat": 4,
 "nbformat_minor": 2
}
