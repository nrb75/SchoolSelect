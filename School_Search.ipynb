{
 "cells": [
  {
   "cell_type": "markdown",
   "metadata": {},
   "source": [
    "I wanted to know more detailed information about schools in my area. There are simple sites like \"\" that give rankings of schools, but I really have no idea what those rankings mean. And obviously, a 8/10 in one location may be a 5/10 in another state. I wanted some way to compare these schools as we look for a new house in a new state I know relatively little about."
   ]
  },
  {
   "cell_type": "code",
   "execution_count": null,
   "metadata": {},
   "outputs": [],
   "source": [
    "Data sources:\n",
    "    https://www.data.gov/education/developers\n",
    "\n",
    "        1. adjusted graduation rates"
   ]
  },
  {
   "cell_type": "code",
   "execution_count": 12,
   "metadata": {},
   "outputs": [],
   "source": [
    "#example from ed.gov\n",
    "\n",
    "import urllib.request\n",
    "import requests\n",
    "url = 'https://inventory.data.gov/api/action/datastore_search?resource_id=566c5a0c-0a44-4ada-af54-7b3cd826d306&limit=5&q=title:jones'\n"
   ]
  },
  {
   "cell_type": "code",
   "execution_count": 10,
   "metadata": {},
   "outputs": [],
   "source": [
    "fileobj = urllib.request.urlopen(url)\n",
    "fileobj.read()\n"
   ]
  },
  {
   "cell_type": "code",
   "execution_count": 11,
   "metadata": {},
   "outputs": [
    {
     "name": "stdout",
     "output_type": "stream",
     "text": [
      "b'{\"help\": \"https://inventory.data.gov/api/3/action/help_show?name=datastore_search\", \"success\": true, \"result\": {\"resource_id\": \"566c5a0c-0a44-4ada-af54-7b3cd826d306\", \"fields\": [{\"type\": \"int4\", \"id\": \"_id\"}, {\"type\": \"text\", \"id\": \"stnam\"}, {\"type\": \"text\", \"id\": \"fipst\"}, {\"type\": \"text\", \"id\": \"leaid\"}, {\"type\": \"text\", \"id\": \"leanm10\"}, {\"type\": \"text\", \"id\": \"ncessch\"}, {\"type\": \"text\", \"id\": \"schnam10\"}, {\"type\": \"text\", \"id\": \"ALL_COHORT_1011\"}, {\"type\": \"text\", \"id\": \"ALL_RATE_1011\"}, {\"type\": \"text\", \"id\": \"MAM_COHORT_1011\"}, {\"type\": \"text\", \"id\": \"MAM_RATE_1011\"}, {\"type\": \"text\", \"id\": \"MAS_COHORT_1011\"}, {\"type\": \"text\", \"id\": \"MAS_RATE_1011\"}, {\"type\": \"text\", \"id\": \"MBL_COHORT_1011\"}, {\"type\": \"text\", \"id\": \"MBL_RATE_1011\"}, {\"type\": \"text\", \"id\": \"MHI_COHORT_1011\"}, {\"type\": \"text\", \"id\": \"MHI_RATE_1011\"}, {\"type\": \"text\", \"id\": \"MTR_COHORT_1011\"}, {\"type\": \"text\", \"id\": \"MTR_RATE_1011\"}, {\"type\": \"text\", \"id\": \"MWH_COHORT_1011\"}, {\"type\": \"text\", \"id\": \"MWH_RATE_1011\"}, {\"type\": \"text\", \"id\": \"CWD_COHORT_1011\"}, {\"type\": \"text\", \"id\": \"CWD_RATE_1011\"}, {\"type\": \"text\", \"id\": \"ECD_COHORT_1011\"}, {\"type\": \"text\", \"id\": \"ECD_RATE_1011\"}, {\"type\": \"text\", \"id\": \"LEP_COHORT_1011\"}, {\"type\": \"text\", \"id\": \"LEP_RATE_1011\"}, {\"type\": \"int8\", \"id\": \"_full_count\"}, {\"type\": \"float4\", \"id\": \"rank\"}], \"q\": \"title:jones\", \"records\": [], \"_links\": {\"start\": \"/api/action/datastore_search?q=title%3Ajones&limit=5&resource_id=566c5a0c-0a44-4ada-af54-7b3cd826d306\", \"next\": \"/api/action/datastore_search?q=title%3Ajones&offset=5&limit=5&resource_id=566c5a0c-0a44-4ada-af54-7b3cd826d306\"}, \"limit\": 5}}'\n"
     ]
    }
   ],
   "source": [
    "print (fileobj.read())"
   ]
  },
  {
   "cell_type": "code",
   "execution_count": 13,
   "metadata": {},
   "outputs": [
    {
     "name": "stdout",
     "output_type": "stream",
     "text": [
      "200\n"
     ]
    }
   ],
   "source": [
    "#simple test with international space station\n",
    "\n",
    "# Make a get request to get the latest position of the international space station from the opennotify api.\n",
    "response = requests.get(\"http://api.open-notify.org/iss-now.json\")\n",
    "\n",
    "# Print the status code of the response.\n",
    "print(response.status_code)"
   ]
  },
  {
   "cell_type": "markdown",
   "metadata": {},
   "source": [
    "## the status codes:\n",
    "\n",
    "\n",
    "    200 -- everything went okay, and the result has been returned (if any)\n",
    "    301 -- the server is redirecting you to a different endpoint. This can happen when a company switches domain names, or an endpoint name is changed.\n",
    "    401 -- the server thinks you're not authenticated. This happens when you don't send the right credentials to access an API (we'll talk about authentication in a later post).\n",
    "    400 -- the server thinks you made a bad request. This can happen when you don't send along the right data, among other things.\n",
    "    403 -- the resource you're trying to access is forbidden -- you don't have the right permissions to see it.\n",
    "    404 -- the resource you tried to access wasn't found on the server.\n"
   ]
  },
  {
   "cell_type": "markdown",
   "metadata": {},
   "source": [
    "Data comes back from API in JSON format\n",
    "\n",
    "JSON is a way to encode data structures like lists and dictionaries to strings that ensures that they are easily readable by machines. JSON is the primary format in which data is passed back and forth to APIs, and most API servers will send their responses in JSON format.\n",
    "https://www.dataquest.io/blog/python-api-tutorial/"
   ]
  },
  {
   "cell_type": "code",
   "execution_count": 20,
   "metadata": {},
   "outputs": [
    {
     "name": "stdout",
     "output_type": "stream",
     "text": [
      "<class 'dict'>\n",
      "{'message': 'success', 'request': {'altitude': 100, 'datetime': 1535133882, 'latitude': 37.78, 'longitude': -122.41, 'passes': 5}, 'response': [{'duration': 467, 'risetime': 1535135155}, {'duration': 555, 'risetime': 1535140973}, {'duration': 639, 'risetime': 1535146749}, {'duration': 494, 'risetime': 1535152583}, {'duration': 392, 'risetime': 1535201036}]}\n"
     ]
    }
   ],
   "source": [
    "# Make the same request we did earlier, but with the coordinates of San Francisco instead.\n",
    "parameters = {\"lat\": 37.78, \"lon\": -122.41}\n",
    "response = requests.get(\"http://api.open-notify.org/iss-pass.json\", params=parameters) #this is a json\n",
    "\n",
    "# Get the response data as a python object.  Verify that it's a dictionary.\n",
    "data = response.json()#the .json converts the response to a python object\n",
    "print(type(data))\n",
    "print(data)"
   ]
  },
  {
   "cell_type": "code",
   "execution_count": 21,
   "metadata": {},
   "outputs": [
    {
     "data": {
      "text/plain": [
       "b'{\\n  \"message\": \"success\", \\n  \"request\": {\\n    \"altitude\": 100, \\n    \"datetime\": 1535133882, \\n    \"latitude\": 37.78, \\n    \"longitude\": -122.41, \\n    \"passes\": 5\\n  }, \\n  \"response\": [\\n    {\\n      \"duration\": 467, \\n      \"risetime\": 1535135155\\n    }, \\n    {\\n      \"duration\": 555, \\n      \"risetime\": 1535140973\\n    }, \\n    {\\n      \"duration\": 639, \\n      \"risetime\": 1535146749\\n    }, \\n    {\\n      \"duration\": 494, \\n      \"risetime\": 1535152583\\n    }, \\n    {\\n      \"duration\": 392, \\n      \"risetime\": 1535201036\\n    }\\n  ]\\n}\\n'"
      ]
     },
     "execution_count": 21,
     "metadata": {},
     "output_type": "execute_result"
    }
   ],
   "source": [
    "response.content #this is the same info as above, but it was not converted from json yet.\n",
    "#The JSON content has /n while the python object is a string."
   ]
  },
  {
   "cell_type": "markdown",
   "metadata": {},
   "source": [
    "The server doesn't just send a status code and the data when it generates a response. It also sends metadata containing information on how the data was generated and how to decode it. This is stored in the response headers. In Python, we can access this with the headers property of a response object."
   ]
  },
  {
   "cell_type": "code",
   "execution_count": 15,
   "metadata": {},
   "outputs": [
    {
     "name": "stdout",
     "output_type": "stream",
     "text": [
      "{'Server': 'nginx/1.10.3', 'Date': 'Fri, 24 Aug 2018 17:47:09 GMT', 'Content-Type': 'application/json', 'Via': '1.1 vegur, 1.1 Sevier', 'Content-Length': '521', 'Age': '1'}\n"
     ]
    }
   ],
   "source": [
    "# Headers is a dictionary\n",
    "print(response.headers)"
   ]
  },
  {
   "cell_type": "code",
   "execution_count": 16,
   "metadata": {},
   "outputs": [
    {
     "name": "stdout",
     "output_type": "stream",
     "text": [
      "6\n",
      "{'message': 'success', 'people': [{'craft': 'ISS', 'name': 'Oleg Artemyev'}, {'craft': 'ISS', 'name': 'Andrew Feustel'}, {'craft': 'ISS', 'name': 'Richard Arnold'}, {'craft': 'ISS', 'name': 'Sergey Prokopyev'}, {'craft': 'ISS', 'name': 'Alexander Gerst'}, {'craft': 'ISS', 'name': 'Serena Aunon-Chancellor'}], 'number': 6}\n"
     ]
    }
   ],
   "source": [
    "# Get the response from the API endpoint.\n",
    "response = requests.get(\"http://api.open-notify.org/astros.json\")\n",
    "data = response.json()\n",
    "\n",
    "# 9 people are currently in space.\n",
    "print(data[\"number\"]) #look for specific result \"number\", which returns the number of astronauts in space\n",
    "print(data)"
   ]
  },
  {
   "cell_type": "code",
   "execution_count": null,
   "metadata": {},
   "outputs": [],
   "source": []
  }
 ],
 "metadata": {
  "kernelspec": {
   "display_name": "Python 3",
   "language": "python",
   "name": "python3"
  },
  "language_info": {
   "codemirror_mode": {
    "name": "ipython",
    "version": 3
   },
   "file_extension": ".py",
   "mimetype": "text/x-python",
   "name": "python",
   "nbconvert_exporter": "python",
   "pygments_lexer": "ipython3",
   "version": "3.6.6"
  }
 },
 "nbformat": 4,
 "nbformat_minor": 2
}
